{
  "nbformat": 4,
  "nbformat_minor": 0,
  "metadata": {
    "colab": {
      "name": "Determinant.ipynb",
      "provenance": [],
      "authorship_tag": "ABX9TyOGD2QsHCKYMm2Bwq54GtXP",
      "include_colab_link": true
    },
    "kernelspec": {
      "name": "python3",
      "display_name": "Python 3"
    },
    "language_info": {
      "name": "python"
    }
  },
  "cells": [
    {
      "cell_type": "markdown",
      "metadata": {
        "id": "view-in-github",
        "colab_type": "text"
      },
      "source": [
        "<a href=\"https://colab.research.google.com/github/Zeke-Woods/Linear_Algebra_Coding_Projects/blob/main/Determinant.ipynb\" target=\"_parent\"><img src=\"https://colab.research.google.com/assets/colab-badge.svg\" alt=\"Open In Colab\"/></a>"
      ]
    },
    {
      "cell_type": "markdown",
      "metadata": {
        "id": "d6uDLKqY0_BU"
      },
      "source": [
        "Load Numpy and Other Stuff\n",
        "\n",
        "Run both\n"
      ]
    },
    {
      "cell_type": "code",
      "metadata": {
        "id": "NaP8xyCfRrUg",
        "cellView": "form"
      },
      "source": [
        "#@title\n",
        "import matplotlib.pyplot as plt\n",
        "from sympy import Poly\n",
        "import sympy as sym\n",
        "import numpy as np\n",
        "from numpy import c_\n",
        "\n",
        "# We'll specify that x and t are variables:\n",
        "x, t = sym.symbols('x, t')\n",
        "\n",
        "ll = \"loaded\""
      ],
      "execution_count": null,
      "outputs": []
    },
    {
      "cell_type": "code",
      "metadata": {
        "id": "CANB9fuMRyBP",
        "colab": {
          "base_uri": "https://localhost:8080/"
        },
        "cellView": "form",
        "outputId": "4511756f-d217-403c-f2c8-2d1817bfd5fe"
      },
      "source": [
        "#@title\n",
        "lll = \" correctly!\"\n",
        "\n",
        "def rref(matrix):\n",
        "    A = np.array(matrix, dtype=np.float64)\n",
        "    \n",
        "    r = 0 #row\n",
        "    c = 0 #column\n",
        "\n",
        "    (maxr, maxc) = A.shape\n",
        "\n",
        "    prev_row_pivot = -1   # The previous row with a leading term:\n",
        "    tmp_pivot_row = -1\n",
        "    this_pivot_row = -1\n",
        "\n",
        "    for c in range(maxc):  # go through each column\n",
        "      tmp_pivot_row = -1  # reset the tmp pivot row\n",
        "      this_pivot_row = -1  # reset this pivot row\n",
        "      for r in range(maxr):  # Find the leading term in this column below prev_row_pivot\n",
        "        if ((r > prev_row_pivot) and (A[r][c] != 0.0)):\n",
        "          tmp_pivot_row = r  # find the new pivot row\n",
        "      if (tmp_pivot_row > -1):  # we found a candidate for the leading term:\n",
        "        #swap row this_pivot_row with (prev_row_pivot + 1)\n",
        "        A[[tmp_pivot_row, prev_row_pivot+1]] = A[[prev_row_pivot + 1, tmp_pivot_row]]\n",
        "        #set this_pivot_row to prev_row_pivot+1\n",
        "        this_pivot_row = prev_row_pivot + 1\n",
        "        #Now, normalize the row based on the pivot value:\n",
        "        A[ this_pivot_row ] = A[ this_pivot_row ] / A[ this_pivot_row ][c]\n",
        "        #Then, use this row to force 0's above and below the pivot entry:\n",
        "        #subtract multiples of of the this_pivot_row row from the others\n",
        "        for r_ in range(len(A)):\n",
        "            if r_ != this_pivot_row:\n",
        "                A[r_] = A[r_] - A[this_pivot_row] * A[r_][c] / A[this_pivot_row][c]\n",
        "        prev_row_pivot = this_pivot_row\n",
        "    return A   \n",
        "\n",
        "\n",
        "def is_singular(matrix):\n",
        "  singular = True\n",
        "  notsingular = False\n",
        "\n",
        "  (mr, mc) = matrix.shape\n",
        "  \n",
        "  return_value = notsingular\n",
        "  if (mc - np.linalg.linalg.matrix_rank(matrix) > 0) :\n",
        "    return_value = singular\n",
        "  return return_value\n",
        " \n",
        "    \n",
        "    \n",
        "\n",
        "print(\">> The page \", ll, lll)"
      ],
      "execution_count": null,
      "outputs": [
        {
          "output_type": "stream",
          "name": "stdout",
          "text": [
            ">> The page  loaded  correctly!\n"
          ]
        }
      ]
    },
    {
      "cell_type": "markdown",
      "metadata": {
        "id": "hbif3sffzc3P"
      },
      "source": [
        "**ONLY LOAD THE MATRICES YOU WANT TO CALCULATE**\n",
        "\n",
        "or make new matrices and only load them*"
      ]
    },
    {
      "cell_type": "code",
      "metadata": {
        "id": "VqMzzXJXtSLl"
      },
      "source": [
        "#  2x2's:\n",
        "\n",
        "A = np.matrix([[10, 7],\n",
        "               [8, 9]])\n",
        "\n",
        "B = np.matrix([[-10, -1],\n",
        "               [-4, 7]])\n",
        "\n",
        "C = np.matrix([[1, -3],\n",
        "               [7, 7]])\n"
      ],
      "execution_count": null,
      "outputs": []
    },
    {
      "cell_type": "code",
      "metadata": {
        "id": "ene0w5kNw6p8"
      },
      "source": [
        "#@title\n",
        "#3x3's\n",
        "\n",
        "A = np.matrix([[ 3,   2,  3],\n",
        "               [-6,  1, -10],\n",
        "               [-8, -9,  -9]])\n",
        "\n",
        "B = np.matrix([[1, -2,  1],\n",
        "               [5,  5,  4],\n",
        "               [4,  0,  0]])\n",
        "\n",
        "C = np.matrix([[1,   0,   0],\n",
        "               [0,   2,   0],\n",
        "               [-3, -2,   1]])"
      ],
      "execution_count": null,
      "outputs": []
    },
    {
      "cell_type": "markdown",
      "metadata": {
        "id": "D942tkpYzvV1"
      },
      "source": [
        "Run all the calculations below after choosing a set of Matrices"
      ]
    },
    {
      "cell_type": "code",
      "metadata": {
        "colab": {
          "base_uri": "https://localhost:8080/"
        },
        "id": "gfIT0FvryCPF",
        "cellView": "form",
        "outputId": "c76ed039-7424-418f-ce24-94f4366d09d3"
      },
      "source": [
        "#@title\n",
        "# Finds all the Determinants by themselves\n",
        "print(\" Det of A: \", \"\\n\",  np.round(np.linalg.det(A), decimals = 5, out = None), \"\\n\")\n",
        "print(\" Det of B: \", \"\\n\",  np.round(np.linalg.det(B), decimals = 5, out = None), \"\\n\")\n",
        "print(\" Det of C: \", \"\\n\",  np.round(np.linalg.det(C), decimals = 5, out = None), \"\\n\")"
      ],
      "execution_count": null,
      "outputs": [
        {
          "output_type": "stream",
          "name": "stdout",
          "text": [
            " Det of A:  \n",
            " -59.0 \n",
            "\n",
            " Det of B:  \n",
            " -52.0 \n",
            "\n",
            " Det of C:  \n",
            " 2.0 \n",
            "\n"
          ]
        }
      ]
    },
    {
      "cell_type": "code",
      "metadata": {
        "colab": {
          "base_uri": "https://localhost:8080/"
        },
        "cellView": "form",
        "id": "HOpiUToow3QR",
        "outputId": "9767f3a9-e3ce-436f-edf5-424ddfbfe9ff"
      },
      "source": [
        "#@title\n",
        "# gives both A * B and B * A then the Determanent of A * B and B * A\n",
        "print(\" A * B is: \", \"\\n\", A*B, \"\\n\")\n",
        "print(\" Det of A * B: \", \"\\n\",  np.round(np.linalg.det(A * B), decimals = 5, out = None), \"\\n\")\n",
        "\n",
        "print(\" B * A is: \", \"\\n\", B*A, \"\\n\")\n",
        "print(\" Det of B * A: \", \"\\n\",  np.round(np.linalg.det(B * A), decimals = 5, out = None), \"\\n\")"
      ],
      "execution_count": null,
      "outputs": [
        {
          "output_type": "stream",
          "name": "stdout",
          "text": [
            " A * B is:  \n",
            " [[ 25   4  11]\n",
            " [-41  17  -2]\n",
            " [-89 -29 -44]] \n",
            "\n",
            " Det of A * B:  \n",
            " 3068.0 \n",
            "\n",
            " B * A is:  \n",
            " [[  7  -9  14]\n",
            " [-47 -21 -71]\n",
            " [ 12   8  12]] \n",
            "\n",
            " Det of B * A:  \n",
            " 3068.0 \n",
            "\n"
          ]
        }
      ]
    },
    {
      "cell_type": "code",
      "metadata": {
        "colab": {
          "base_uri": "https://localhost:8080/"
        },
        "cellView": "form",
        "id": "cyv1QXzWvBnf",
        "outputId": "eced4825-e1af-4e56-8901-8f968bda8ad8"
      },
      "source": [
        "#@title\n",
        "# gives both A * C and C * A then the Determanent of A * C and C * A\n",
        "print(\" A * C is: \", \"\\n\", A*C, \"\\n\")\n",
        "print(\" Det of A * C: \", \"\\n\",  np.round(np.linalg.det(A * C), decimals = 5, out = None), \"\\n\")\n",
        "\n",
        "print(\" C * A is: \", \"\\n\", C*A, \"\\n\")\n",
        "print(\" Det of C * A: \", \"\\n\",  np.round(np.linalg.det(C * A), decimals = 5, out = None), \"\\n\")"
      ],
      "execution_count": null,
      "outputs": [
        {
          "output_type": "stream",
          "name": "stdout",
          "text": [
            " A * C is:  \n",
            " [[ -6  -2   3]\n",
            " [ 24  22 -10]\n",
            " [ 19   0  -9]] \n",
            "\n",
            " Det of A * C:  \n",
            " -118.0 \n",
            "\n",
            " C * A is:  \n",
            " [[  3   2   3]\n",
            " [-12   2 -20]\n",
            " [ -5 -17   2]] \n",
            "\n",
            " Det of C * A:  \n",
            " -118.0 \n",
            "\n"
          ]
        }
      ]
    },
    {
      "cell_type": "code",
      "metadata": {
        "colab": {
          "base_uri": "https://localhost:8080/"
        },
        "id": "yBC4RiXwwWEZ",
        "outputId": "bb21e99a-81b2-466e-8c2d-7479a5d05875"
      },
      "source": [
        "#@title\n",
        "# gives both B * C and C * B then the Determanent of B * C and C * B\n",
        "print(\" B * C is: \", \"\\n\", B*C, \"\\n\")\n",
        "print(\" Det of B * C: \", \"\\n\",  np.round(np.linalg.det(B * C), decimals = 5, out = None), \"\\n\")\n",
        "\n",
        "print(\" C * B is: \", \"\\n\", C*B, \"\\n\")\n",
        "print(\" Det of C * B: \", \"\\n\",  np.round(np.linalg.det(C * B), decimals = 5, out = None), \"\\n\")"
      ],
      "execution_count": null,
      "outputs": [
        {
          "output_type": "stream",
          "name": "stdout",
          "text": [
            " B * C is:  \n",
            " [[-2 -6  1]\n",
            " [-7  2  4]\n",
            " [ 4  0  0]] \n",
            "\n",
            " Det of B * C:  \n",
            " -104.0 \n",
            "\n",
            " C * B is:  \n",
            " [[  1  -2   1]\n",
            " [ 10  10   8]\n",
            " [ -9  -4 -11]] \n",
            "\n",
            " Det of C * B:  \n",
            " -104.0 \n",
            "\n"
          ]
        }
      ]
    }
  ]
}