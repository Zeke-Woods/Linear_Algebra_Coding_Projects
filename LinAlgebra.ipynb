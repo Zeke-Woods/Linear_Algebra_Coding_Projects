{
  "nbformat": 4,
  "nbformat_minor": 0,
  "metadata": {
    "colab": {
      "name": "LinAlgebra.ipynb",
      "provenance": [],
      "authorship_tag": "ABX9TyMr7qTnY6A9Wuxvx/QpOYhf",
      "include_colab_link": true
    },
    "kernelspec": {
      "name": "python3",
      "display_name": "Python 3"
    },
    "language_info": {
      "name": "python"
    }
  },
  "cells": [
    {
      "cell_type": "markdown",
      "metadata": {
        "id": "view-in-github",
        "colab_type": "text"
      },
      "source": [
        "<a href=\"https://colab.research.google.com/github/Zeke-Woods/Linear_Algebra_Coding_Projects/blob/main/LinAlgebra.ipynb\" target=\"_parent\"><img src=\"https://colab.research.google.com/assets/colab-badge.svg\" alt=\"Open In Colab\"/></a>"
      ]
    },
    {
      "cell_type": "code",
      "metadata": {
        "id": "SDmo4Wzb0H-u"
      },
      "source": [
        "import matplotlib.pyplot as plt\n",
        "from sympy import Poly\n",
        "import sympy as sym\n",
        "import numpy as np\n",
        "from numpy import c_\n",
        "\n",
        "# We'll specify that x and t are variables:\n",
        "x, t = sym.symbols('x, t')\n",
        "\n",
        "ll = \"loaded\"\n"
      ],
      "execution_count": 1,
      "outputs": []
    },
    {
      "cell_type": "code",
      "metadata": {
        "id": "CANB9fuMRyBP",
        "colab": {
          "base_uri": "https://localhost:8080/"
        },
        "outputId": "344c4ab0-e523-42b1-a790-5f035edc6b32"
      },
      "source": [
        "lll = \" correctly!\"\n",
        "\n",
        "def rref(matrix):\n",
        "    A = np.array(matrix, dtype=np.float64)\n",
        "    \n",
        "    r = 0 #row\n",
        "    c = 0 #column\n",
        "\n",
        "    (maxr, maxc) = A.shape\n",
        "\n",
        "    prev_row_pivot = -1   # The previous row with a leading term:\n",
        "    tmp_pivot_row = -1\n",
        "    this_pivot_row = -1\n",
        "\n",
        "    for c in range(maxc):  # go through each column\n",
        "      tmp_pivot_row = -1  # reset the tmp pivot row\n",
        "      this_pivot_row = -1  # reset this pivot row\n",
        "      for r in range(maxr):  # Find the leading term in this column below prev_row_pivot\n",
        "        if ((r > prev_row_pivot) and (A[r][c] != 0.0)):\n",
        "          tmp_pivot_row = r  # find the new pivot row\n",
        "      if (tmp_pivot_row > -1):  # we found a candidate for the leading term:\n",
        "        #swap row this_pivot_row with (prev_row_pivot + 1)\n",
        "        A[[tmp_pivot_row, prev_row_pivot+1]] = A[[prev_row_pivot + 1, tmp_pivot_row]]\n",
        "        #set this_pivot_row to prev_row_pivot+1\n",
        "        this_pivot_row = prev_row_pivot + 1\n",
        "        #Now, normalize the row based on the pivot value:\n",
        "        A[ this_pivot_row ] = A[ this_pivot_row ] / A[ this_pivot_row ][c]\n",
        "        #Then, use this row to force 0's above and below the pivot entry:\n",
        "        #subtract multiples of of the this_pivot_row row from the others\n",
        "        for r_ in range(len(A)):\n",
        "            if r_ != this_pivot_row:\n",
        "                A[r_] = A[r_] - A[this_pivot_row] * A[r_][c] / A[this_pivot_row][c]\n",
        "        prev_row_pivot = this_pivot_row\n",
        "    return A   \n",
        "\n",
        "\n",
        "def is_singular(matrix):\n",
        "  singular = True\n",
        "  notsingular = False\n",
        "\n",
        "  (mr, mc) = matrix.shape\n",
        "  \n",
        "  return_value = notsingular\n",
        "  if (mc - np.linalg.linalg.matrix_rank(matrix) > 0) :\n",
        "    return_value = singular\n",
        "  return return_value\n",
        " \n",
        "    \n",
        "    \n",
        "\n",
        "print(\">> The page \", ll, lll)"
      ],
      "execution_count": 2,
      "outputs": [
        {
          "output_type": "stream",
          "name": "stdout",
          "text": [
            ">> The page  loaded  correctly!\n"
          ]
        }
      ]
    },
    {
      "cell_type": "code",
      "metadata": {
        "colab": {
          "base_uri": "https://localhost:8080/"
        },
        "id": "VPoTeJMm0kTc",
        "outputId": "45c1052b-4e2f-4d95-a3ac-c662c5f35b4d"
      },
      "source": [
        "# create a vector\n",
        "M = np.matrix([[1],\n",
        "              [2],\n",
        "              [3],\n",
        "              [4]])\n",
        "print(M) "
      ],
      "execution_count": 3,
      "outputs": [
        {
          "output_type": "stream",
          "name": "stdout",
          "text": [
            "[[1]\n",
            " [2]\n",
            " [3]\n",
            " [4]]\n"
          ]
        }
      ]
    },
    {
      "cell_type": "code",
      "metadata": {
        "colab": {
          "base_uri": "https://localhost:8080/"
        },
        "id": "_w7AovGk1PYg",
        "outputId": "3e7db581-6014-4075-a4e3-cd644d004ce0"
      },
      "source": [
        "r = np.matrix('1; 2; 3; 4')\n",
        "r"
      ],
      "execution_count": 4,
      "outputs": [
        {
          "output_type": "execute_result",
          "data": {
            "text/plain": [
              "matrix([[1],\n",
              "        [2],\n",
              "        [3],\n",
              "        [4]])"
            ]
          },
          "metadata": {},
          "execution_count": 4
        }
      ]
    },
    {
      "cell_type": "code",
      "metadata": {
        "colab": {
          "base_uri": "https://localhost:8080/"
        },
        "id": "Pm8-nkB22GW7",
        "outputId": "b1232d45-eb68-4ad2-cee7-f7915b071540"
      },
      "source": [
        "#use an array instead\n",
        "a = np.array([0, 2, -4, 4])\n",
        "a"
      ],
      "execution_count": 5,
      "outputs": [
        {
          "output_type": "execute_result",
          "data": {
            "text/plain": [
              "array([ 0,  2, -4,  4])"
            ]
          },
          "metadata": {},
          "execution_count": 5
        }
      ]
    },
    {
      "cell_type": "code",
      "metadata": {
        "colab": {
          "base_uri": "https://localhost:8080/"
        },
        "id": "sRwGJEMW1mbv",
        "outputId": "27921a8a-248d-4186-b715-2264ba75cb53"
      },
      "source": [
        "np.sqrt(a.dot(a))\n"
      ],
      "execution_count": 6,
      "outputs": [
        {
          "output_type": "execute_result",
          "data": {
            "text/plain": [
              "6.0"
            ]
          },
          "metadata": {},
          "execution_count": 6
        }
      ]
    },
    {
      "cell_type": "markdown",
      "metadata": {
        "id": "MFCeY-ad3XEu"
      },
      "source": [
        "this is a text block... also: \n",
        "\n",
        "\n",
        "\n",
        "Using the Gram-Scmidt Orthonormalization Process\n"
      ]
    },
    {
      "cell_type": "code",
      "metadata": {
        "id": "CZSu0JZ83zRh"
      },
      "source": [
        "#the messy vectors\n",
        "r1 = np.array([ 0,2,-4,4])\n",
        "r2 = np.array([0,2,-2,6])\n",
        "r3 = np.array([0,0,-7,11])\n",
        "r4 = np.array([1,2,3,4])"
      ],
      "execution_count": 15,
      "outputs": []
    },
    {
      "cell_type": "code",
      "metadata": {
        "colab": {
          "base_uri": "https://localhost:8080/"
        },
        "id": "T1IyNNaL4MOT",
        "outputId": "0d4dbffe-defc-4e01-e604-37d99dbb0f58"
      },
      "source": [
        "#Find the first nice basis vector:\n",
        "t1 = r1\n",
        "#subtract off the nice basis vectors:\n",
        "#Nothing yet\n",
        "\n",
        "# Find the magnitude of t1:\n",
        "n1 = np.sqrt(t1.dot(t1))\n",
        "\n",
        "# So, u1 = (1/n1) * t1\n",
        "u1 = (1/n1) * t1\n",
        "\n",
        "print(n1)\n",
        "\n",
        "u1"
      ],
      "execution_count": 8,
      "outputs": [
        {
          "output_type": "stream",
          "name": "stdout",
          "text": [
            "6.0\n"
          ]
        },
        {
          "output_type": "execute_result",
          "data": {
            "text/plain": [
              "array([ 0.        ,  0.33333333, -0.66666667,  0.66666667])"
            ]
          },
          "metadata": {},
          "execution_count": 8
        }
      ]
    },
    {
      "cell_type": "code",
      "metadata": {
        "colab": {
          "base_uri": "https://localhost:8080/"
        },
        "id": "ECaXHPU35Et_",
        "outputId": "61cfba32-e46d-49ef-8c06-894e81af1f80"
      },
      "source": [
        "# Verify that u1 has size 1 and is orthogonal to all other u vectors\n",
        "np.sqrt(u1.dot(u1))"
      ],
      "execution_count": 9,
      "outputs": [
        {
          "output_type": "execute_result",
          "data": {
            "text/plain": [
              "0.9999999999999999"
            ]
          },
          "metadata": {},
          "execution_count": 9
        }
      ]
    },
    {
      "cell_type": "code",
      "metadata": {
        "colab": {
          "base_uri": "https://localhost:8080/"
        },
        "id": "Kxgo3IEZ5kap",
        "outputId": "16d53770-e69b-47bf-9dde-db3814a0112a"
      },
      "source": [
        "#Find the second nice basis vector:\n",
        "t2 = r2 - r2.dot(u1) * u1\n",
        "\n",
        "#subtract off the nice basis vectors:\n",
        "#Nothing yet\n",
        "\n",
        "# Find the magnitude of t1:\n",
        "n2 = np.sqrt(t2.dot(t2))\n",
        "\n",
        "# So, u2 = (1/n2) * t2\n",
        "u2 = (1/n2) * t2\n",
        "\n",
        "print(n2)\n",
        "\n",
        "u2"
      ],
      "execution_count": 10,
      "outputs": [
        {
          "output_type": "stream",
          "name": "stdout",
          "text": [
            "2.8284271247461903\n"
          ]
        },
        {
          "output_type": "execute_result",
          "data": {
            "text/plain": [
              "array([0.        , 0.        , 0.70710678, 0.70710678])"
            ]
          },
          "metadata": {},
          "execution_count": 10
        }
      ]
    },
    {
      "cell_type": "code",
      "metadata": {
        "colab": {
          "base_uri": "https://localhost:8080/"
        },
        "id": "NZ8gSWOL6OyR",
        "outputId": "9b5461e9-afc1-4798-d3d6-970522ae96fb"
      },
      "source": [
        "# Verify that u2 has size 1 and is orthogonal to all other u vectors\n",
        "print(\"The size of u2 = \", np.sqrt(u2.dot(u2)))\n",
        "print(\"u2 . u1 = \", u2.dot(u1))"
      ],
      "execution_count": 11,
      "outputs": [
        {
          "output_type": "stream",
          "name": "stdout",
          "text": [
            "The size of u2 =  0.9999999999999999\n",
            "u2 . u1 =  -7.66449056764364e-18\n"
          ]
        }
      ]
    },
    {
      "cell_type": "code",
      "metadata": {
        "colab": {
          "base_uri": "https://localhost:8080/"
        },
        "id": "mllY7nHa7Et3",
        "outputId": "ed879cb3-71d2-4738-a5ed-3e97ef1b5850"
      },
      "source": [
        "#Find the third nice basis vector:\n",
        "t3 = r3 - r3.dot(u1) * u1 - r3.dot(u2) * u2\n",
        "\n",
        "#subtract off the nice basis vectors:\n",
        "#Nothing yet\n",
        "\n",
        "# Find the magnitude of t1:\n",
        "n3 = np.sqrt(t3.dot(t3))\n",
        "\n",
        "# So, u3 = (1/n3) * t3\n",
        "u3 = (1/n3) * t3\n",
        "\n",
        "print(n3)\n",
        "\n",
        "u3"
      ],
      "execution_count": 12,
      "outputs": [
        {
          "output_type": "stream",
          "name": "stdout",
          "text": [
            "4.242640687119285\n"
          ]
        },
        {
          "output_type": "execute_result",
          "data": {
            "text/plain": [
              "array([ 0.        , -0.94280904, -0.23570226,  0.23570226])"
            ]
          },
          "metadata": {},
          "execution_count": 12
        }
      ]
    },
    {
      "cell_type": "code",
      "metadata": {
        "colab": {
          "base_uri": "https://localhost:8080/"
        },
        "id": "9Wm0_Yuw7cg2",
        "outputId": "af4f2cd4-6116-4990-92e3-0bde95ee619f"
      },
      "source": [
        "# Verify that u3 has size 1 and is orthogonal to all other u vectors\n",
        "print(\"The size of u3 = \", np.sqrt(u3.dot(u3)))\n",
        "print(\"u3 . u2 = \", np.round(u3.dot(u2), decimals=8, out=None))\n",
        "print(\"u3 . u1 = \", np.round(u3.dot(u1), decimals=8, out=None))"
      ],
      "execution_count": 13,
      "outputs": [
        {
          "output_type": "stream",
          "name": "stdout",
          "text": [
            "The size of u3 =  1.0\n",
            "u3 . u2 =  0.0\n",
            "u3 . u1 =  0.0\n"
          ]
        }
      ]
    },
    {
      "cell_type": "code",
      "metadata": {
        "colab": {
          "base_uri": "https://localhost:8080/"
        },
        "id": "GeJyzwCc73RT",
        "outputId": "1debd9e2-904b-4087-acd0-8ca0c9336342"
      },
      "source": [
        "#Find the fourth nice basis vector:\n",
        "t4 = r4 - r4.dot(u1) * u1 - r4.dot(u2) * u2 - r4.dot(u3) * u3\n",
        "\n",
        "#subtract off the nice basis vectors:\n",
        "#Nothing yet\n",
        "\n",
        "# Find the magnitude of t1:\n",
        "n4 = np.sqrt(t4.dot(t4))\n",
        "\n",
        "# So, u2 = (1/n2) * t2\n",
        "u4 = (1/n4) * t4\n",
        "\n",
        "print(n4)\n",
        "\n",
        "u4"
      ],
      "execution_count": 16,
      "outputs": [
        {
          "output_type": "stream",
          "name": "stdout",
          "text": [
            "1.0\n"
          ]
        },
        {
          "output_type": "execute_result",
          "data": {
            "text/plain": [
              "array([1.00000000e+00, 6.66133815e-16, 2.22044605e-16, 1.55431223e-15])"
            ]
          },
          "metadata": {},
          "execution_count": 16
        }
      ]
    },
    {
      "cell_type": "code",
      "metadata": {
        "colab": {
          "base_uri": "https://localhost:8080/"
        },
        "id": "3QZa7mhZ8ZkU",
        "outputId": "b6311276-8941-4384-8561-11b2a33b5983"
      },
      "source": [
        "# Verify that u4 has size 1 and is orthogonal to all other u vectors\n",
        "print(\"The size of u4 = \", np.sqrt(u4.dot(u4)))\n",
        "print(\"u4 . u3 = \", np.round(u4.dot(u3), decimals=8, out=None))\n",
        "print(\"u4 . u2 = \", np.round(u4.dot(u2), decimals=8, out=None))\n",
        "print(\"u4 . u1 = \", np.round(u4.dot(u1), decimals=8, out=None))"
      ],
      "execution_count": 17,
      "outputs": [
        {
          "output_type": "stream",
          "name": "stdout",
          "text": [
            "The size of u4 =  1.0\n",
            "u4 . u3 =  -0.0\n",
            "u4 . u2 =  0.0\n",
            "u4 . u1 =  0.0\n"
          ]
        }
      ]
    }
  ]
}